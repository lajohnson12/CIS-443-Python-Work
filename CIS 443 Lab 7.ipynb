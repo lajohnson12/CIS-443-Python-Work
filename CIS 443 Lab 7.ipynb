{
 "cells": [
  {
   "cell_type": "markdown",
   "metadata": {
    "id": "N7ujyF7t7ftU"
   },
   "source": [
    "# CIS 443-01 - Analytics Programming\n",
    "## Lab 7: Simple linear regression with average yearly NYC temperatures time series\n",
    "__Grading ID__: 2023F-22 (double click the cell in Jupyter to edit, find ID in BB > Course Content > GradeID for Homework)<br>\n",
    "__Submission due__: Tuesday, November 28, (by Midnight)<br>\n",
    "__Assessment due__: Tuesday, December 5, (by Midnight)<br>\n",
    "__Worth__: 20 pts.<br>\n",
    "__Naming convention__: The naming convention is as follows: lab#, hyphen, grading ID, and extension (e.g., Lab1-2023F-XX.ipynb)."
   ]
  },
  {
   "cell_type": "markdown",
   "metadata": {
    "id": "O3yW8iNL7ftY"
   },
   "source": [
    "### Directions\n",
    "\n",
    "```\n",
    "Go to NOAA’s Climate at a Glance page (https://www.ncdc.noaa.gov/cag) and download the available time series data for the New York City average annual temperatures from 1895 through present (1895–2017 at the time of this writing). For your convenience, we provided the data in the file \"ave_yearly_temp_nyc_1895-2017.csv.\"\n",
    "\n",
    "Reimplement the simple linear regression case study of Section 15.4 using the average yearly temperature data. \n",
    "\n",
    "How does the temperature trend compare to the average January high temperatures?\n",
    "\n",
    "```\n",
    "\n",
    "### Hints\n",
    "\n",
    "```\n",
    "This lab is from the textbook. Refer to the exercise 15.6 (p. 659). It's the end of the semester. And so this is selected to help you save time. \n",
    "\n",
    "Use the code in the textbook.     \n",
    "\n",
    "```\n",
    "\n",
    "### Requirements\n",
    "\n",
    "```\n",
    "Include all the relevant code in the textbook. \n",
    "\n",
    "``` \n",
    "\n",
    "\n",
    "### Output\n",
    "\n",
    "```\n",
    "1) # Put your code here (15 points)\n",
    "\n",
    "2) # Answer: How does the temperature trend compare to the average January high temperatures? (5 points)\n",
    "\n",
    "```\n"
   ]
  },
  {
   "cell_type": "code",
   "execution_count": null,
   "metadata": {
    "tags": []
   },
   "outputs": [],
   "source": [
    "import pandas as pd\n",
    "from sklearn.model_selection import train_test_split\n",
    "from sklearn.linear_model import LinearRegression\n",
    "import seaborn as sns\n",
    "import numpy as np\n",
    "import matplotlib.pyplot as plt\n",
    "\n",
    "nyc = pd.read_csv('ave_yearly_temp_nyc_1895-2017.csv')\n",
    "nyc_columns = ['Date', 'Temperature', 'Anomaly']\n",
    "\n",
    "nyc.Date = nyc.Date.floordiv(100)\n",
    "nyc.head(3)\n",
    "\n",
    "X_train, X_test, y_train, y_test = train_test_split(nyc.Date.values.reshape(-1, 1), nyc.Value.values, random_state = 11)\n",
    "linear_regression = LinearRegression()\n",
    "linear_regression.fit(X = X_train, y = y_train)\n",
    "\n",
    "predicted = linear_regression.predict(X_test)\n",
    "expected = y_test\n",
    "\n",
    "for p, e in zip(predicted[::5], expected[::5]):\n",
    "    print(f'predicted: {p:.2f}, expected: {e:.2f}')\n",
    "    \n",
    "predict = (lambda x: linear_regression.coef_ * x + linear_regression.intercept_)\n",
    "\n",
    "axes = sns.scatterplot(data = nyc, x = 'Date', y = 'Value', hue = 'Value', palette = 'winter', legend = False)\n",
    "axes.set_ylim(10, 70)\n",
    "x = np.array([min(nyc.Date.values), max(nyc.Date.values)])\n",
    "y = predict(x)\n",
    "line = plt.plot(x, y)"
   ]
  },
  {
   "cell_type": "raw",
   "metadata": {},
   "source": [
    "# Answer: How does the temperature trend compare to the average January high temperatures?\n",
    "\n",
    "'''\n",
    "The trend temperature fits the average January high temperatures, and seems to be following the median values. In this way the trend line is showcasing the average temperature at each year as opposed to individual points, which may be higher or lower than the trend. \n",
    "'''"
   ]
  }
 ],
 "metadata": {
  "colab": {
   "collapsed_sections": [],
   "name": "Lab1.ipynb",
   "provenance": []
  },
  "kernelspec": {
   "display_name": "Python 3 (ipykernel)",
   "language": "python",
   "name": "python3"
  },
  "language_info": {
   "codemirror_mode": {
    "name": "ipython",
    "version": 3
   },
   "file_extension": ".py",
   "mimetype": "text/x-python",
   "name": "python",
   "nbconvert_exporter": "python",
   "pygments_lexer": "ipython3",
   "version": "3.11.4"
  }
 },
 "nbformat": 4,
 "nbformat_minor": 4
}
