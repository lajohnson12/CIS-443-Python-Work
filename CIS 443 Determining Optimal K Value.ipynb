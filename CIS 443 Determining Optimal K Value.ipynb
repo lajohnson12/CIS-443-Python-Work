{
 "cells": [
  {
   "cell_type": "markdown",
   "metadata": {
    "id": "N7ujyF7t7ftU"
   },
   "source": [
    "# CIS 443-01 - Analytics Programming\n",
    "## Exam 3 Q4: KFold Classification\n",
    "\n",
    "__Worth__: 10 pts.<br>\n",
    "__Naming convention__: The naming convention is as follows: Exam#, hyphen, question #, hyphen, lastname, and extension (e.g., Exam3-Q1-Im.ipynb)."
   ]
  },
  {
   "cell_type": "markdown",
   "metadata": {
    "id": "O3yW8iNL7ftY"
   },
   "source": [
    "### Instructions\n",
    "Using scikit-learn’s KFold class and cross_val_score function, determine the optimal k value for classifying Iris samples using a KNeighborsClassifier. Here, k refers to the number of neighbors. \n",
    "\n",
    "### Hints\n",
    "Refer to textbook pp. 616-. \n",
    "\n",
    "### Requirements\n",
    "```\n",
    "Use the following setting: \n",
    "    kf = KFold(n_splits=4, shuffle=True, random_state=12)\n",
    "\n",
    "Hint for the looping of k: \n",
    "    #Loop through each k value. Test k values from 1 to 20\n",
    "    for k in k_values:\n",
    "        knn = KNeighborsClassifier(n_neighbors=k)\n",
    "```\n",
    "\n",
    "### Outputs\n",
    "a)\tDisplay the optimal k value, mean accuracy, and accuracy standard deviation.\n"
   ]
  },
  {
   "cell_type": "code",
   "execution_count": 14,
   "metadata": {
    "id": "hbVAutvP7ftZ",
    "tags": []
   },
   "outputs": [
    {
     "name": "stdout",
     "output_type": "stream",
     "text": [
      "k=1 ; mean accuracy=96.00%; standard deviation=1.33%\n",
      "k=2 ; mean accuracy=94.67%; standard deviation=4.25%\n",
      "k=3 ; mean accuracy=96.00%; standard deviation=1.33%\n",
      "k=4 ; mean accuracy=96.67%; standard deviation=2.21%\n",
      "k=5 ; mean accuracy=96.00%; standard deviation=1.33%\n",
      "k=6 ; mean accuracy=97.33%; standard deviation=2.67%\n",
      "k=7 ; mean accuracy=96.00%; standard deviation=1.33%\n",
      "k=8 ; mean accuracy=97.33%; standard deviation=2.67%\n",
      "k=9 ; mean accuracy=97.35%; standard deviation=1.86%\n",
      "k=10; mean accuracy=96.00%; standard deviation=3.01%\n",
      "k=11; mean accuracy=98.01%; standard deviation=2.19%\n",
      "k=12; mean accuracy=97.35%; standard deviation=1.86%\n",
      "k=13; mean accuracy=97.35%; standard deviation=1.86%\n",
      "k=14; mean accuracy=96.67%; standard deviation=2.21%\n",
      "k=15; mean accuracy=97.35%; standard deviation=1.86%\n",
      "k=16; mean accuracy=96.67%; standard deviation=2.21%\n",
      "k=17; mean accuracy=96.67%; standard deviation=1.12%\n",
      "k=18; mean accuracy=95.32%; standard deviation=2.25%\n",
      "k=19; mean accuracy=96.00%; standard deviation=1.33%\n",
      "k=20; mean accuracy=95.32%; standard deviation=2.25%\n",
      "\n",
      "Best k value: 11 with accuracy 98.01%\n"
     ]
    }
   ],
   "source": [
    "from sklearn.model_selection import KFold\n",
    "from sklearn.model_selection import cross_val_score\n",
    "from sklearn.neighbors import KNeighborsClassifier\n",
    "from sklearn.datasets import load_iris\n",
    "\n",
    "Iris = load_iris()\n",
    "best_k = None\n",
    "best_accuracy = 0.0\n",
    "\n",
    "for k in range(1, 21):\n",
    "    kfold = KFold(n_splits=4, shuffle=True, random_state=12)\n",
    "    knn = KNeighborsClassifier(n_neighbors=k)\n",
    "    scores = cross_val_score(estimator=knn, X=Iris.data, y=Iris.target, cv=kfold)\n",
    "    mean_accuracy = scores.mean()\n",
    "    std_deviation = scores.std()\n",
    "    \n",
    "    print(f'k={k:<2}; mean accuracy={mean_accuracy:.2%}; standard deviation={std_deviation:.2%}')\n",
    "    \n",
    "    # Update best_k if the current k yields a higher accuracy\n",
    "    if mean_accuracy > best_accuracy:\n",
    "        best_k = k\n",
    "        best_accuracy = mean_accuracy\n",
    "\n",
    "print(f'\\nOptimal k value: {best_k} with accuracy {best_accuracy:.2%}')\n"
   ]
  },
  {
   "cell_type": "code",
   "execution_count": null,
   "metadata": {},
   "outputs": [],
   "source": []
  }
 ],
 "metadata": {
  "colab": {
   "collapsed_sections": [],
   "name": "Lab1.ipynb",
   "provenance": []
  },
  "kernelspec": {
   "display_name": "Python 3 (ipykernel)",
   "language": "python",
   "name": "python3"
  },
  "language_info": {
   "codemirror_mode": {
    "name": "ipython",
    "version": 3
   },
   "file_extension": ".py",
   "mimetype": "text/x-python",
   "name": "python",
   "nbconvert_exporter": "python",
   "pygments_lexer": "ipython3",
   "version": "3.11.4"
  }
 },
 "nbformat": 4,
 "nbformat_minor": 4
}
